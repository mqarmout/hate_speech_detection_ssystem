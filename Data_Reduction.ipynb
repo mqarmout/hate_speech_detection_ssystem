{
 "cells": [
  {
   "cell_type": "markdown",
   "metadata": {},
   "source": [
    "# Python Notebook to Reduce the Balanced Dataset"
   ]
  },
  {
   "cell_type": "markdown",
   "metadata": {},
   "source": [
    "### 1. Imports"
   ]
  },
  {
   "cell_type": "code",
   "execution_count": 14,
   "metadata": {},
   "outputs": [],
   "source": [
    "import pandas as pd\n",
    "import re\n",
    "import string"
   ]
  },
  {
   "cell_type": "markdown",
   "metadata": {},
   "source": [
    "### 2. Read Dataset and Remove Duplicates"
   ]
  },
  {
   "cell_type": "code",
   "execution_count": 11,
   "metadata": {},
   "outputs": [],
   "source": [
    "# Read the dataset\n",
    "df = pd.read_csv('HateSpeechDatasetBalanced.csv')\n",
    "\n",
    "# Remove duplicate 'Content' rows\n",
    "df = df.drop_duplicates(subset='Content')"
   ]
  },
  {
   "cell_type": "markdown",
   "metadata": {},
   "source": [
    "### 3. Seperate data and Sample Rows"
   ]
  },
  {
   "cell_type": "code",
   "execution_count": 12,
   "metadata": {},
   "outputs": [],
   "source": [
    "# Separate the data into Label 0 and Label 1\n",
    "df_label_0 = df[df['Label'] == 0]\n",
    "df_label_1 = df[df['Label'] == 1]\n",
    "\n",
    "# Sample 50,000 rows from each label\n",
    "df_label_0_sampled = df_label_0.sample(n=50000, random_state=42)\n",
    "df_label_1_sampled = df_label_1.sample(n=50000, random_state=42)"
   ]
  },
  {
   "cell_type": "markdown",
   "metadata": {},
   "source": [
    "### 4. Prepare for Export"
   ]
  },
  {
   "cell_type": "code",
   "execution_count": 27,
   "metadata": {},
   "outputs": [],
   "source": [
    "# Combine the two samples\n",
    "df_balanced = pd.concat([df_label_0_sampled, df_label_1_sampled])\n",
    "\n",
    "# Optionally shuffle the combined dataset\n",
    "df_balanced = df_balanced.sample(frac=1, random_state=42).reset_index(drop=True)\n",
    "\n",
    "def preprocess_text(text):\n",
    "    # Remove URLs\n",
    "    text = re.sub(r'http\\S+', '', text)\n",
    "    # Remove mentions and hashtags\n",
    "    text = re.sub(r'@\\w+|#\\w+', '', text)\n",
    "    # Remove punctuation\n",
    "    text = text.translate(str.maketrans('', '', string.punctuation))\n",
    "    # Lowercase\n",
    "    text = text.lower()\n",
    "    # Remove extra whitespace\n",
    "    text = re.sub(r'\\s+', ' ', text).strip()\n",
    "    return text\n",
    "\n",
    "df_balanced['clean_text'] = df_balanced['Content'].apply(preprocess_text)"
   ]
  },
  {
   "cell_type": "code",
   "execution_count": 28,
   "metadata": {},
   "outputs": [
    {
     "data": {
      "text/plain": [
       "<bound method NDFrame.head of                                                  Content  Label  \\\n",
       "0      he don't want my surrender to my new math book...      1   \n",
       "1      pravi drzavnicki gov or sto god missile oh emu...      1   \n",
       "2           i fucking hate going to my girlfriends house      0   \n",
       "3      asked that pretend son to b a time the son wou...      1   \n",
       "4      well myself am connected to an ethnically jewi...      1   \n",
       "...                                                  ...    ...   \n",
       "99995  seriously russia this what a slut your strateg...      0   \n",
       "99996  i am baffled bitches quick to say you fucked t...      1   \n",
       "99997                   east hanging subject area is gay      1   \n",
       "99998        any complaints with that as the new wording      0   \n",
       "99999  every single commie is a resentful son of a bi...      0   \n",
       "\n",
       "                                              clean_text  \n",
       "0      he dont want my surrender to my new math book ...  \n",
       "1      pravi drzavnicki gov or sto god missile oh emu...  \n",
       "2           i fucking hate going to my girlfriends house  \n",
       "3      asked that pretend son to b a time the son wou...  \n",
       "4      well myself am connected to an ethnically jewi...  \n",
       "...                                                  ...  \n",
       "99995  seriously russia this what a slut your strateg...  \n",
       "99996  i am baffled bitches quick to say you fucked t...  \n",
       "99997                   east hanging subject area is gay  \n",
       "99998        any complaints with that as the new wording  \n",
       "99999  every single commie is a resentful son of a bi...  \n",
       "\n",
       "[100000 rows x 3 columns]>"
      ]
     },
     "execution_count": 28,
     "metadata": {},
     "output_type": "execute_result"
    }
   ],
   "source": [
    "df_balanced.head"
   ]
  },
  {
   "cell_type": "code",
   "execution_count": 31,
   "metadata": {},
   "outputs": [
    {
     "data": {
      "text/html": [
       "<div>\n",
       "<style scoped>\n",
       "    .dataframe tbody tr th:only-of-type {\n",
       "        vertical-align: middle;\n",
       "    }\n",
       "\n",
       "    .dataframe tbody tr th {\n",
       "        vertical-align: top;\n",
       "    }\n",
       "\n",
       "    .dataframe thead th {\n",
       "        text-align: right;\n",
       "    }\n",
       "</style>\n",
       "<table border=\"1\" class=\"dataframe\">\n",
       "  <thead>\n",
       "    <tr style=\"text-align: right;\">\n",
       "      <th></th>\n",
       "      <th>Label</th>\n",
       "      <th>clean_text</th>\n",
       "    </tr>\n",
       "  </thead>\n",
       "  <tbody>\n",
       "    <tr>\n",
       "      <th>0</th>\n",
       "      <td>1</td>\n",
       "      <td>he dont want my surrender to my new math book ...</td>\n",
       "    </tr>\n",
       "    <tr>\n",
       "      <th>1</th>\n",
       "      <td>1</td>\n",
       "      <td>pravi drzavnicki gov or sto god missile oh emu...</td>\n",
       "    </tr>\n",
       "    <tr>\n",
       "      <th>2</th>\n",
       "      <td>0</td>\n",
       "      <td>i fucking hate going to my girlfriends house</td>\n",
       "    </tr>\n",
       "    <tr>\n",
       "      <th>3</th>\n",
       "      <td>1</td>\n",
       "      <td>asked that pretend son to b a time the son wou...</td>\n",
       "    </tr>\n",
       "    <tr>\n",
       "      <th>4</th>\n",
       "      <td>1</td>\n",
       "      <td>well myself am connected to an ethnically jewi...</td>\n",
       "    </tr>\n",
       "    <tr>\n",
       "      <th>...</th>\n",
       "      <td>...</td>\n",
       "      <td>...</td>\n",
       "    </tr>\n",
       "    <tr>\n",
       "      <th>99995</th>\n",
       "      <td>0</td>\n",
       "      <td>seriously russia this what a slut your strateg...</td>\n",
       "    </tr>\n",
       "    <tr>\n",
       "      <th>99996</th>\n",
       "      <td>1</td>\n",
       "      <td>i am baffled bitches quick to say you fucked t...</td>\n",
       "    </tr>\n",
       "    <tr>\n",
       "      <th>99997</th>\n",
       "      <td>1</td>\n",
       "      <td>east hanging subject area is gay</td>\n",
       "    </tr>\n",
       "    <tr>\n",
       "      <th>99998</th>\n",
       "      <td>0</td>\n",
       "      <td>any complaints with that as the new wording</td>\n",
       "    </tr>\n",
       "    <tr>\n",
       "      <th>99999</th>\n",
       "      <td>0</td>\n",
       "      <td>every single commie is a resentful son of a bi...</td>\n",
       "    </tr>\n",
       "  </tbody>\n",
       "</table>\n",
       "<p>100000 rows × 2 columns</p>\n",
       "</div>"
      ],
      "text/plain": [
       "       Label                                         clean_text\n",
       "0          1  he dont want my surrender to my new math book ...\n",
       "1          1  pravi drzavnicki gov or sto god missile oh emu...\n",
       "2          0       i fucking hate going to my girlfriends house\n",
       "3          1  asked that pretend son to b a time the son wou...\n",
       "4          1  well myself am connected to an ethnically jewi...\n",
       "...      ...                                                ...\n",
       "99995      0  seriously russia this what a slut your strateg...\n",
       "99996      1  i am baffled bitches quick to say you fucked t...\n",
       "99997      1                   east hanging subject area is gay\n",
       "99998      0        any complaints with that as the new wording\n",
       "99999      0  every single commie is a resentful son of a bi...\n",
       "\n",
       "[100000 rows x 2 columns]"
      ]
     },
     "execution_count": 31,
     "metadata": {},
     "output_type": "execute_result"
    }
   ],
   "source": [
    "df_balanced.drop('Content',axis=1)"
   ]
  },
  {
   "cell_type": "markdown",
   "metadata": {},
   "source": [
    "### 5. Export"
   ]
  },
  {
   "cell_type": "code",
   "execution_count": 32,
   "metadata": {},
   "outputs": [],
   "source": [
    "# Save the resulting dataset to a new CSV file\n",
    "df_balanced.to_csv('HateSpeechDatasetBalanced_reduced.csv', index=False)"
   ]
  },
  {
   "cell_type": "markdown",
   "metadata": {},
   "source": [
    "### 6. Testing New File"
   ]
  },
  {
   "cell_type": "code",
   "execution_count": 17,
   "metadata": {},
   "outputs": [
    {
     "data": {
      "text/plain": [
       "<bound method NDFrame.head of                                                  Content  Label  \\\n",
       "0      he don't want my surrender to my new math book...      1   \n",
       "1      pravi drzavnicki gov or sto god missile oh emu...      1   \n",
       "2           i fucking hate going to my girlfriends house      0   \n",
       "3      asked that pretend son to b a time the son wou...      1   \n",
       "4      well myself am connected to an ethnically jewi...      1   \n",
       "...                                                  ...    ...   \n",
       "99995  seriously russia this what a slut your strateg...      0   \n",
       "99996  i am baffled bitches quick to say you fucked t...      1   \n",
       "99997                   east hanging subject area is gay      1   \n",
       "99998        any complaints with that as the new wording      0   \n",
       "99999  every single commie is a resentful son of a bi...      0   \n",
       "\n",
       "                                              clean_text  \n",
       "0      he dont want my surrender to my new math book ...  \n",
       "1      pravi drzavnicki gov or sto god missile oh emu...  \n",
       "2           i fucking hate going to my girlfriends house  \n",
       "3      asked that pretend son to b a time the son wou...  \n",
       "4      well myself am connected to an ethnically jewi...  \n",
       "...                                                  ...  \n",
       "99995  seriously russia this what a slut your strateg...  \n",
       "99996  i am baffled bitches quick to say you fucked t...  \n",
       "99997                   east hanging subject area is gay  \n",
       "99998        any complaints with that as the new wording  \n",
       "99999  every single commie is a resentful son of a bi...  \n",
       "\n",
       "[100000 rows x 3 columns]>"
      ]
     },
     "execution_count": 17,
     "metadata": {},
     "output_type": "execute_result"
    }
   ],
   "source": [
    "reduced_df = pd.read_csv(\"HateSpeechDatasetBalanced_reduced.csv\")\n",
    "\n",
    "reduced_df.head"
   ]
  },
  {
   "cell_type": "code",
   "execution_count": 18,
   "metadata": {},
   "outputs": [
    {
     "data": {
      "text/plain": [
       "(100000, 3)"
      ]
     },
     "execution_count": 18,
     "metadata": {},
     "output_type": "execute_result"
    }
   ],
   "source": [
    "reduced_df.shape"
   ]
  },
  {
   "cell_type": "code",
   "execution_count": 8,
   "metadata": {},
   "outputs": [
    {
     "data": {
      "image/png": "[encoded data removed]",
      "text/plain": [
       "<Figure size 640x480 with 1 Axes>"
      ]
     },
     "metadata": {},
     "output_type": "display_data"
    }
   ],
   "source": [
    "import matplotlib.pyplot as plt\n",
    "\n",
    "df_balanced['Label'].value_counts().plot(kind='bar')\n",
    "plt.show()"
   ]
  },
  {
   "cell_type": "code",
   "execution_count": 9,
   "metadata": {},
   "outputs": [
    {
     "name": "stdout",
     "output_type": "stream",
     "text": [
      "Number of duplicate 'Content' entries: 0\n"
     ]
    }
   ],
   "source": [
    "duplicate_count = df_balanced.duplicated(subset='Content').sum()\n",
    "print(f\"Number of duplicate 'Content' entries: {duplicate_count}\")"
   ]
  }
 ],
 "metadata": {
  "kernelspec": {
   "display_name": "venv_py311",
   "language": "python",
   "name": "python3"
  },
  "language_info": {
   "codemirror_mode": {
    "name": "ipython",
    "version": 3
   },
   "file_extension": ".py",
   "mimetype": "text/x-python",
   "name": "python",
   "nbconvert_exporter": "python",
   "pygments_lexer": "ipython3",
   "version": "3.11.8"
  }
 },
 "nbformat": 4,
 "nbformat_minor": 2
}
